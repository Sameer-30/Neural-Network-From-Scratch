{
  "nbformat": 4,
  "nbformat_minor": 0,
  "metadata": {
    "colab": {
      "private_outputs": true,
      "provenance": [],
      "authorship_tag": "ABX9TyMrNWwNqgUuQEIr42PjVw+/",
      "include_colab_link": true
    },
    "kernelspec": {
      "name": "python3",
      "display_name": "Python 3"
    },
    "language_info": {
      "name": "python"
    }
  },
  "cells": [
    {
      "cell_type": "markdown",
      "metadata": {
        "id": "view-in-github",
        "colab_type": "text"
      },
      "source": [
        "<a href=\"https://colab.research.google.com/github/Sameer-30/Neural-Network-From-Scratch/blob/main/Neural_Network_From_Scratch.ipynb\" target=\"_parent\"><img src=\"https://colab.research.google.com/assets/colab-badge.svg\" alt=\"Open In Colab\"/></a>"
      ]
    },
    {
      "cell_type": "markdown",
      "source": [
        "# Neural Networks from Scratch\n",
        "\n",
        "In this guide, I am walking through the basics of neural networks,starting from scratch. I am covering the fundamental concepts,including neurons, layers, and the mathematics behind them. By theend, there will be a clear understanding of how to build a simple neural etwork using Python and NumPy.\n",
        "\n",
        "## Table of Contents\n",
        "\n",
        "1. [Introduction to Neurons](#Introduction-to-Neurons)\n",
        "2. [Single Neuron Implementation](#Single-Neuron-Implementation)\n",
        "3. [Layer of Neurons](#Layer-of-Neurons)\n",
        "4. [Tensors, Arrays, and Vectors](#Tensors,-Arrays,-and-Vectors)\n",
        "5. [Dot Product and Vector Addition](#Dot-Product-and-Vector-Addition)\n",
        "6. [Implementing Neurons with NumPy](#Implementing-Neurons-with-NumPy)\n",
        "7. [Batch Processing](#Batch-Processing)\n",
        "8. [Matrix Product and Transposition](#Matrix-Product-and-Transposition)\n",
        "\n",
        "## Introduction to Neurons\n",
        "\n",
        "Neural networks are inspired by the human brain and consist of layers f interconnected nodes called neurons. Each neuron takes inputs,processes them, and produces an output. The core of a neural networkis the neuron, which performs a weighted sum of its inputs, adds a bias, nd applies an activation function.\n",
        "\n",
        "## Single Neuron Implementation\n",
        "\n",
        "Let's start by implementing a single neuron. A neuron takes inputs,multiplies them by weights, adds a bias, and produces an output.\n",
        "\n",
        "### Step-by-Step Implementation\n",
        "\n",
        "1. **Inputs and Weights**: Define the inputs and corresponding eights. Inputs are the data fed into the neuron, while weights are parameters hat the neuron learns during training.\n",
        "\n",
        "2. **Bias**: Add a bias term to the neuron. The bias allows the ctivation function to be shifted to the left or right, which can helpthe model fit the data better.\n",
        "\n",
        "3. **Output Calculation**: Compute the output by summing the productsof inputs and weights, then adding the bias. The output of a euron can be represented as:\n",
        "\n",
        "   $$\n",
        "   \\text{Output} = \\left( \\sum_{i=1}^{n} x_i w_i \\right) + b\n",
        "   $$\n",
        "\n",
        "   where  $ x_i$ are the inputs, $w_i$ are the weights, and  $b$ isthe bias.\n",
        "\n",
        "Here's how I am implementing a single neuron in Python:\n"
      ],
      "metadata": {
        "id": "_C9uYufpv-W6"
      }
    },
    {
      "cell_type": "code",
      "source": [
        "# Define inputs and weights\n",
        "inputs = [0.5, -0.2, 0.1]\n",
        "weights = [0.4, 0.7, -0.3]\n",
        "bias = 1.5\n",
        "\n",
        "# Calculate the output\n",
        "output = sum(i * w for i, w in zip(inputs, weights)) + bias\n",
        "print(\"Neuron Output:\", output)"
      ],
      "metadata": {
        "id": "0kZB01fvyeXS"
      },
      "execution_count": null,
      "outputs": []
    },
    {
      "cell_type": "markdown",
      "source": [
        "## Layer of Neurons\n",
        "\n",
        "A layer in a neural network consists of multiple neurons. Each neuron in a layer shares the same inputs but has its own set of weights and bias. The output of the layer is a collection of outputs from each neuron.\n",
        "\n",
        "### Implementation\n",
        "\n",
        "1. **Define Inputs**: Use a list of inputs. These inputs are shared among all neurons in the layer.\n",
        "\n",
        "2. **Define Weights and Biases**: Create lists of weights and biases for each neuron. Each neuron has its own set of weights and a single bias.\n",
        "\n",
        "3. **Compute Outputs**: Calculate the output for each neuron using the formula mentioned above and store them in a list.\n",
        "\n",
        "Here's an example of a layer with three neurons:"
      ],
      "metadata": {
        "id": "Lwi6SOqK4xIt"
      }
    },
    {
      "cell_type": "code",
      "source": [
        "# Define inputs\n",
        "inputs = [0.5, -0.2, 0.1, 0.9]\n",
        "\n",
        "# Define weights and biases for each neuron\n",
        "weights = [\n",
        "    [0.4, 0.7, -0.3, 0.2],\n",
        "    [0.1, -0.5, 0.6, 0.3],\n",
        "    [-0.2, 0.4, 0.1, -0.7]\n",
        "]\n",
        "biases = [1.5, -0.5, 0.8]\n",
        "\n",
        "# Calculate outputs for each neuron\n",
        "outputs = [\n",
        "    sum(i * w for i, w in zip(inputs, weights[0])) + biases[0],\n",
        "    sum(i * w for i, w in zip(inputs, weights[1])) + biases[1],\n",
        "    sum(i * w for i, w in zip(inputs, weights[2])) + biases[2]\n",
        "]\n",
        "\n",
        "print(\"Layer Outputs:\", outputs)"
      ],
      "metadata": {
        "id": "GuMITdJ53uKF"
      },
      "execution_count": null,
      "outputs": []
    },
    {
      "cell_type": "markdown",
      "source": [
        "## Tensors, Arrays, and Vectors\n",
        "\n",
        "In neural networks, data is often represented as tensors, arrays, or vectors. Understanding these structures is crucial for implementing neural networks efficiently.\n",
        "\n",
        "### Tensors\n",
        "\n",
        "Tensors are multi-dimensional arrays. In the context of neural networks, tensors are used to represent data and parameters. They can be thought of as generalizations of matrices to higher dimensions.\n",
        "\n",
        "### Arrays\n",
        "\n",
        "Arrays are similar to tensors but are typically used to refer to multi-dimensional data structures in programming. They are homogeneous collections of elements that can be indexed.\n",
        "\n",
        "### Vectors\n",
        "\n",
        "Vectors are one-dimensional arrays. They are used to represent single features or inputs to a neuron. In mathematical terms, a vector $\\mathbf{V}$ can be represented as:\n",
        "\n",
        "$$\n",
        "\\mathbf{V} = [v_1, v_2, \\ldots, v_n]\n",
        "$$\n",
        "\n",
        "## Dot Product and Vector Addition\n",
        "\n",
        "The dot product is a fundamental operation in neural networks. It involves multiplying corresponding elements of two vectors and summing the results. Vector addition involves adding corresponding elements of two vectors.\n",
        "\n",
        "### Dot Product Example\n",
        "\n",
        "The dot product of two vectors $\\mathbf{a}$ and $\\mathbf{b}$ is given by:\n",
        "\n",
        "$$\n",
        "\\mathbf{a} \\cdot \\mathbf{b} = \\sum_{i=1}^{n} a_i b_i\n",
        "$$\n",
        "\n",
        "Here's how I am calculating the dot product in Python:"
      ],
      "metadata": {
        "id": "_0GF1LaQ5cfh"
      }
    },
    {
      "cell_type": "code",
      "source": [
        "# Define vectors\n",
        "a = [1, 2, 3]\n",
        "b = [4, 5, 6]\n",
        "\n",
        "# Calculate dot product\n",
        "dot_product = sum(x * y for x, y in zip(a, b))\n",
        "print(\"Dot Product:\", dot_product)"
      ],
      "metadata": {
        "id": "4w2AddW_5NVc"
      },
      "execution_count": null,
      "outputs": []
    },
    {
      "cell_type": "markdown",
      "source": [
        "## Implementing Neurons with NumPy\n",
        "\n",
        "NumPy is a powerful library for numerical computing in Python. It provides efficient operations for working with arrays and matrices.\n",
        "\n",
        "### Single Neuron with NumPy\n",
        "\n",
        "Here's how I am implementing a single neuron using NumPy:"
      ],
      "metadata": {
        "id": "h71kVrIz885u"
      }
    },
    {
      "cell_type": "code",
      "source": [
        "import numpy as np\n",
        "\n",
        "# Define inputs and weights\n",
        "inputs = np.array([0.5, -0.2, 0.1])\n",
        "weights = np.array([0.4, 0.7, -0.3])\n",
        "bias = 1.5\n",
        "\n",
        "# Calculate output using NumPy\n",
        "output = np.dot(inputs, weights) + bias\n",
        "print(\"Neuron Output:\", output)"
      ],
      "metadata": {
        "id": "NzQBgrKp8pWG"
      },
      "execution_count": null,
      "outputs": []
    },
    {
      "cell_type": "markdown",
      "source": [
        "## Layer of Neurons with NumPy\n",
        "\n",
        "Here's how I am implementing a layer of neurons using NumPy:"
      ],
      "metadata": {
        "id": "vdLuaLcm90a8"
      }
    },
    {
      "cell_type": "code",
      "source": [
        "import numpy as np\n",
        "\n",
        "# Define inputs\n",
        "inputs = np.array([0.5, -0.2, 0.1, 0.9])\n",
        "\n",
        "# Define weights and biases for each neuron\n",
        "weights = np.array([\n",
        "    [0.4, 0.7, -0.3, 0.2],\n",
        "    [0.1, -0.5, 0.6, 0.3],\n",
        "    [-0.2, 0.4, 0.1, -0.7]\n",
        "])\n",
        "biases = np.array([1.5, -0.5, 0.8])\n",
        "\n",
        "# Calculate outputs for each neuron\n",
        "outputs = np.dot(weights, inputs) + biases\n",
        "print(\"Layer Outputs:\", outputs)"
      ],
      "metadata": {
        "id": "J5ztZFTH9mo1"
      },
      "execution_count": null,
      "outputs": []
    },
    {
      "cell_type": "markdown",
      "source": [
        "## Batch Processing\n",
        "\n",
        "Neural networks often process data in batches to improve efficiency and generalization. A batch is a collection of input samples processed together. Processing data in batches allows the network to update weights more effectively and can lead to better performance.\n",
        "\n",
        "### Batch Processing Example\n",
        "\n",
        "Here's how I am implementing batch processing using NumPy:\n"
      ],
      "metadata": {
        "id": "pDnCap4m-MiO"
      }
    },
    {
      "cell_type": "code",
      "source": [
        "import numpy as np\n",
        "\n",
        "# Define a batch of inputs\n",
        "batch_inputs = np.array([\n",
        "    [0.5, -0.2, 0.1, 0.9],\n",
        "    [0.3, 0.4, -0.1, 0.7],\n",
        "    [-0.2, 0.5, 0.3, -0.4]\n",
        "])\n",
        "\n",
        "# Define weights and biases for each neuron\n",
        "weights = np.array([\n",
        "    [0.4, 0.7, -0.3, 0.2],\n",
        "    [0.1, -0.5, 0.6, 0.3],\n",
        "    [-0.2, 0.4, 0.1, -0.7]\n",
        "])\n",
        "biases = np.array([1.5, -0.5, 0.8])\n",
        "\n",
        "# Calculate outputs for the batch\n",
        "batch_outputs = np.dot(batch_inputs, weights.T) + biases\n",
        "print(\"Batch Outputs:\\n\", batch_outputs)"
      ],
      "metadata": {
        "id": "tiS3HfO3967_"
      },
      "execution_count": null,
      "outputs": []
    },
    {
      "cell_type": "markdown",
      "source": [
        "## Matrix Product and Transposition\n",
        "\n",
        "The matrix product is an operation that multiplies two matrices to produce a new matrix. Transposition is the process of flipping a matrix over its diagonal, which is useful for aligning dimensions correctly during matrix multiplication.\n",
        "\n",
        "### Matrix Product Example\n",
        "\n",
        "The matrix product of two matrices $A$ and $B$ is given by:\n",
        "\n",
        "$$\n",
        "C = A \\times B\n",
        "$$\n",
        "\n",
        "where $C_{ij} = \\sum_{k} A_{ik} B_{kj}$.\n",
        "\n",
        "Here's how I am calculating the matrix product in Python:"
      ],
      "metadata": {
        "id": "JVJEomud-coo"
      }
    },
    {
      "cell_type": "code",
      "source": [
        "import numpy as np\n",
        "\n",
        "# Define matrices\n",
        "A = np.array([[1, 2], [3, 4]])\n",
        "B = np.array([[5, 6], [7, 8]])\n",
        "\n",
        "# Calculate matrix product\n",
        "product = np.dot(A, B)\n",
        "print(\"Matrix Product:\\n\", product)"
      ],
      "metadata": {
        "id": "LjToncIK-RKB"
      },
      "execution_count": null,
      "outputs": []
    },
    {
      "cell_type": "markdown",
      "source": [
        "### Transposition Example (Continued)\n",
        "\n",
        "Here's how I am calculating the transpose of a matrix in Python:"
      ],
      "metadata": {
        "id": "ox43VoRJ_Ux-"
      }
    },
    {
      "cell_type": "code",
      "source": [
        "import numpy as np\n",
        "\n",
        "# Define a matrix\n",
        "matrix = np.array([[1, 2], [3, 4]])\n",
        "\n",
        "# Calculate transpose\n",
        "transpose = matrix.T\n",
        "print(\"Transpose:\\n\", transpose)"
      ],
      "metadata": {
        "id": "U4US96Nc_J4X"
      },
      "execution_count": null,
      "outputs": []
    },
    {
      "cell_type": "code",
      "source": [],
      "metadata": {
        "id": "GljbyU10_Ywc"
      },
      "execution_count": null,
      "outputs": []
    }
  ]
}